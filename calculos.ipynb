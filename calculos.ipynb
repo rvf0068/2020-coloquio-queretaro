{
 "cells": [
  {
   "cell_type": "code",
   "execution_count": 1,
   "metadata": {},
   "outputs": [],
   "source": [
    "%matplotlib inline\n",
    "import networkx as nx\n",
    "import matplotlib.pyplot as plt\n",
    "from networkx.algorithms.operators.unary import complement\n",
    "from networkx.algorithms.operators.binary import disjoint_union\n",
    "from pycliques.cliques import clique_graph as k\n",
    "from pycliques.dominated import *\n",
    "p = completely_pared_graph\n",
    "from pycliques.helly import *\n",
    "from pycliques.retractions import *\n",
    "from pycliques.named import *\n",
    "snubd = snub_dysphenoid\n",
    "from pycliques.special import *\n",
    "from pycliques.small import *\n",
    "from pycliques.coaffinations import *\n",
    "from pycliques.cutpoints import *\n",
    "\n",
    "from comun import pk, gap_adyacency_list, is_contractible"
   ]
  },
  {
   "cell_type": "markdown",
   "metadata": {},
   "source": [
    "## 4 vértices\n",
    "\n"
   ]
  },
  {
   "cell_type": "markdown",
   "metadata": {},
   "source": [
    "La única gráfica cúbica de 4 vértices es $K_{4}$, y su complemento\n",
    "  es 4 vértices aislados, por lo tanto, convergente. Además,\n",
    "  $\\overline{K_{4}}$ tiene coafinación.\n",
    "\n"
   ]
  },
  {
   "cell_type": "markdown",
   "metadata": {},
   "source": [
    "## 6 vértices\n",
    "\n"
   ]
  },
  {
   "cell_type": "markdown",
   "metadata": {},
   "source": [
    "En este caso, las únicas gráficas cúbicas son $K_{3,3}$ y el\n",
    "  prisma triangular $T_{3}$. El complemento de la primera es\n",
    "  $2K_{3}$ y el de la segunda es $C_{6}$. Ambas son convergentes y\n",
    "  tienen coafinación.\n",
    "\n"
   ]
  },
  {
   "cell_type": "markdown",
   "metadata": {},
   "source": [
    "## 8 vértices\n",
    "\n"
   ]
  },
  {
   "cell_type": "markdown",
   "metadata": {},
   "source": [
    "Por Corollary 2.4, página 43, de Chartrand, Lesniak, Zhang, se tiene\n",
    "  que el complemento de cualquier gráfica cúbica de más de 8 vértices\n",
    "  es conexo.\n",
    "\n"
   ]
  },
  {
   "cell_type": "markdown",
   "metadata": {},
   "source": [
    "### Conexas\n",
    "\n"
   ]
  },
  {
   "cell_type": "code",
   "execution_count": 1,
   "metadata": {},
   "outputs": [],
   "source": [
    "lista08 = nx.read_graph6(\"./cub08.g6\")\n",
    "len(lista08)"
   ]
  },
  {
   "cell_type": "markdown",
   "metadata": {},
   "source": [
    "Solo hay una gráfica entre las 5 con complemento no Helly.\n",
    "\n"
   ]
  },
  {
   "cell_type": "code",
   "execution_count": 1,
   "metadata": {},
   "outputs": [],
   "source": [
    "ccubic = [complement(g) for g in lista08]\n",
    "still = [i for i, g in enumerate(ccubic) if not is_helly(g)]\n",
    "still"
   ]
  },
  {
   "cell_type": "code",
   "execution_count": 1,
   "metadata": {},
   "outputs": [],
   "source": [
    "nx.draw(lista08[2])"
   ]
  },
  {
   "cell_type": "markdown",
   "metadata": {},
   "source": [
    "Y en este caso, la de clanes podada es Helly.\n",
    "\n"
   ]
  },
  {
   "cell_type": "code",
   "execution_count": 1,
   "metadata": {},
   "outputs": [],
   "source": [
    "g = complement(lista08[2])\n",
    "kg = pk(g)\n",
    "kg.order(), is_helly(kg)"
   ]
  },
  {
   "cell_type": "markdown",
   "metadata": {},
   "source": [
    "### Disconexas\n",
    "\n"
   ]
  },
  {
   "cell_type": "markdown",
   "metadata": {},
   "source": [
    "La única gráfica cúbica con 8 vértices disconexa es $K_{4}\\cup\n",
    "K_{4}$, su complemento es $K_{4,4}$, que es Helly.\n",
    "\n"
   ]
  },
  {
   "cell_type": "code",
   "execution_count": 1,
   "metadata": {},
   "outputs": [],
   "source": [
    "g = complement(disjoint_union(nx.complete_graph(4), nx.complete_graph(4)))\n",
    "is_helly(g)"
   ]
  },
  {
   "cell_type": "markdown",
   "metadata": {},
   "source": [
    "## 10 vértices\n",
    "\n"
   ]
  },
  {
   "cell_type": "markdown",
   "metadata": {},
   "source": [
    "### Conexas\n",
    "\n"
   ]
  },
  {
   "cell_type": "code",
   "execution_count": 1,
   "metadata": {},
   "outputs": [],
   "source": [
    "lista10 = nx.read_graph6(\"./cub10.g6\")\n",
    "len(lista10)"
   ]
  },
  {
   "cell_type": "markdown",
   "metadata": {},
   "source": [
    "En este caso, solo el complemento de una cúbica es Helly.\n",
    "\n"
   ]
  },
  {
   "cell_type": "code",
   "execution_count": 1,
   "metadata": {},
   "outputs": [],
   "source": [
    "ccubic = [complement(g) for g in lista10]\n",
    "still = [i for i, g in enumerate(ccubic) if not is_helly(g)]\n",
    "len(still)"
   ]
  },
  {
   "cell_type": "code",
   "execution_count": 1,
   "metadata": {},
   "outputs": [],
   "source": [
    "still = [i for i in still if not special_octahedra(ccubic[i])]\n",
    "still, len(still)"
   ]
  },
  {
   "cell_type": "markdown",
   "metadata": {},
   "source": [
    "Ninguna de las 9 restantes, que no tienen retracción especial a\n",
    "$O_3$, tiene retracción no especial.\n",
    "\n"
   ]
  },
  {
   "cell_type": "code",
   "execution_count": 1,
   "metadata": {},
   "outputs": [],
   "source": [
    "still = [i for i in still if not retracts_to(octahedron(3))(ccubic[i])]\n",
    "len(still)"
   ]
  },
  {
   "cell_type": "markdown",
   "metadata": {},
   "source": [
    "Hay 3 que se retraen a la suspensión de $C_{5}$.\n",
    "\n"
   ]
  },
  {
   "cell_type": "code",
   "execution_count": 1,
   "metadata": {},
   "outputs": [],
   "source": [
    "still = [i for i in still if not retracts_to(suspension_of_cycle(5))(ccubic[i])]\n",
    "still, len(still)"
   ]
  },
  {
   "cell_type": "markdown",
   "metadata": {},
   "source": [
    "Ninguna de las 6 restantes tiene gráfica de clanes (podada) que sea Helly.\n",
    "\n"
   ]
  },
  {
   "cell_type": "code",
   "execution_count": 1,
   "metadata": {},
   "outputs": [],
   "source": [
    "kccubic = {i: pk(ccubic[i]) for i in still}\n",
    "still = [i for i in still if not is_helly(kccubic[i])]\n",
    "len(still)"
   ]
  },
  {
   "cell_type": "markdown",
   "metadata": {},
   "source": [
    "Ninguna de las 6 restantes tiene gráfica de clanes con retracción especial.\n",
    "\n"
   ]
  },
  {
   "cell_type": "code",
   "execution_count": 1,
   "metadata": {},
   "outputs": [],
   "source": [
    "still = [i for i in still if not special_octahedra(kccubic[i])]\n",
    "len(still)"
   ]
  },
  {
   "cell_type": "markdown",
   "metadata": {},
   "source": [
    "La gráfica de clanes de la gráfica 15 se retrae al octaedro $O_{3}$\n",
    "aunque no especialmente.\n",
    "\n"
   ]
  },
  {
   "cell_type": "code",
   "execution_count": 1,
   "metadata": {},
   "outputs": [],
   "source": [
    "still = [i for i in still if not retracts_to(octahedron(3))(kccubic[i])]\n",
    "still, len(still)"
   ]
  },
  {
   "cell_type": "markdown",
   "metadata": {},
   "source": [
    "La gráfica de clanes de la gráfica 16 se retrae a la suspensión de $C_{5}$.\n",
    "\n"
   ]
  },
  {
   "cell_type": "code",
   "execution_count": 1,
   "metadata": {},
   "outputs": [],
   "source": [
    "still = [i for i in still if not retracts_to(suspension_of_cycle(5))(kccubic[i])]\n",
    "still, len(still)"
   ]
  },
  {
   "cell_type": "code",
   "execution_count": 1,
   "metadata": {},
   "outputs": [],
   "source": [
    "still = [i for i in still if not retracts_to(suspension_of_cycle(6))(kccubic[i])]\n",
    "still, len(still)"
   ]
  },
  {
   "cell_type": "code",
   "execution_count": 1,
   "metadata": {},
   "outputs": [],
   "source": [
    "still = [i for i in still if not retracts_to(complement_of_cycle(8))(kccubic[i])]\n",
    "still, len(still)"
   ]
  },
  {
   "cell_type": "markdown",
   "metadata": {},
   "source": [
    "La segunda de clanes (podada) de las gráficas 4 y 7 es Helly.\n",
    "\n"
   ]
  },
  {
   "cell_type": "code",
   "execution_count": 1,
   "metadata": {},
   "outputs": [],
   "source": [
    "k2ccubic = {i: pk(kccubic[i]) for i in still}\n",
    "still = [i for i in still if not is_helly(k2ccubic[i])]\n",
    "[(i, k2ccubic[i].order()) for i in still], len(still)"
   ]
  },
  {
   "cell_type": "markdown",
   "metadata": {},
   "source": [
    "Se incluye dibujo de las gráficas 4 y 7.\n",
    "\n"
   ]
  },
  {
   "cell_type": "code",
   "execution_count": 1,
   "metadata": {},
   "outputs": [],
   "source": [
    "plt.figure(figsize=(10, 5))\n",
    "\n",
    "for i in range(len([4, 7])):\n",
    "    plt.subplot(\"12\"+str(i+1))\n",
    "    plt.title(str([4, 7][i]))\n",
    "    nx.draw(lista10[[4, 7][i]], with_labels='True')\n",
    "\n",
    "plt.show()"
   ]
  },
  {
   "cell_type": "markdown",
   "metadata": {},
   "source": [
    "Las segundas gráficas de clanes de las gráficas 6 y 10 tienen la misma\n",
    "cantidad de vértices, pero no son isomorfas.\n",
    "\n"
   ]
  },
  {
   "cell_type": "code",
   "execution_count": 1,
   "metadata": {},
   "outputs": [],
   "source": [
    "nx.is_isomorphic(k2ccubic[6], k2ccubic[10])"
   ]
  },
  {
   "cell_type": "code",
   "execution_count": 1,
   "metadata": {},
   "outputs": [],
   "source": [
    "still = [i for i in still if not special_octahedra(k2ccubic[i])]\n",
    "len(still)"
   ]
  },
  {
   "cell_type": "code",
   "execution_count": 1,
   "metadata": {},
   "outputs": [],
   "source": [
    "k3ccubic = {i: pk(k2ccubic[i]) for i in still}\n",
    "still = [i for i in still if not is_helly(k3ccubic[i])]\n",
    "[(i, k3ccubic[i].order()) for i in still], len(still)"
   ]
  },
  {
   "cell_type": "code",
   "execution_count": 1,
   "metadata": {},
   "outputs": [],
   "source": [
    "%time still = [i for i in still if not special_octahedra(k3ccubic[i])]\n",
    "still, len(still)"
   ]
  },
  {
   "cell_type": "markdown",
   "metadata": {},
   "source": [
    "### Disconexas\n",
    "\n"
   ]
  },
  {
   "cell_type": "markdown",
   "metadata": {},
   "source": [
    "El complemento del prisma triangular (i.e., $C_{6}$) tiene\n",
    "coafinación y es conexo, por lo que $\\overline{K_{4}}+C_{6}$ es\n",
    "divergente por el teorema del sumando conexo.\n",
    "\n",
    "Por otro lado, el complemento de $K_{3,3}$ ($K_{3}\\cup K_{3}$) no\n",
    "es conexo.\n",
    "\n"
   ]
  },
  {
   "cell_type": "code",
   "execution_count": 1,
   "metadata": {},
   "outputs": [],
   "source": [
    "g = complement(disjoint_union(nx.complete_graph(4), nx.complete_bipartite_graph(3,3)))"
   ]
  },
  {
   "cell_type": "code",
   "execution_count": 1,
   "metadata": {},
   "outputs": [],
   "source": [
    "is_helly(g)"
   ]
  },
  {
   "cell_type": "code",
   "execution_count": 1,
   "metadata": {},
   "outputs": [],
   "source": [
    "nx.draw(p(g))"
   ]
  },
  {
   "cell_type": "markdown",
   "metadata": {},
   "source": [
    "## 12 vértices\n",
    "\n"
   ]
  },
  {
   "cell_type": "markdown",
   "metadata": {},
   "source": [
    "### Conexas\n",
    "\n"
   ]
  },
  {
   "cell_type": "markdown",
   "metadata": {},
   "source": [
    "#### Las gráficas\n",
    "\n"
   ]
  },
  {
   "cell_type": "code",
   "execution_count": 1,
   "metadata": {},
   "outputs": [],
   "source": [
    "lista12 = nx.read_graph6(\"./cub12.g6\")\n",
    "len(lista12)"
   ]
  },
  {
   "cell_type": "markdown",
   "metadata": {},
   "source": [
    "En este caso, ningún complemento de una cúbica es Helly. Conjeturo que\n",
    "si $G$ es cúbica y $|G|\\geq 12$, se tiene que $\\overline{G}$ no\n",
    "es Helly.\n",
    "\n"
   ]
  },
  {
   "cell_type": "code",
   "execution_count": 1,
   "metadata": {},
   "outputs": [],
   "source": [
    "ccubic = [complement(g) for g in lista12]\n",
    "still = [i for i, g in enumerate(ccubic) if not is_helly(g)]\n",
    "len(still)"
   ]
  },
  {
   "cell_type": "markdown",
   "metadata": {},
   "source": [
    "Hay 40 de las 85 gráficas conexas que tienen retracción especial a un octaedro.\n",
    "\n"
   ]
  },
  {
   "cell_type": "code",
   "execution_count": 1,
   "metadata": {},
   "outputs": [],
   "source": [
    "still = [i for i in still if not special_octahedra(ccubic[i])]\n",
    "len(still)"
   ]
  },
  {
   "cell_type": "code",
   "execution_count": 1,
   "metadata": {},
   "outputs": [],
   "source": [
    "%time still = [i for i in still if not retracts_to(octahedron(3))(ccubic[i])]\n",
    "len(still)"
   ]
  },
  {
   "cell_type": "code",
   "execution_count": 1,
   "metadata": {},
   "outputs": [],
   "source": [
    "still = [i for i in still if not retracts_to(octahedron(4))(ccubic[i])]\n",
    "len(still)"
   ]
  },
  {
   "cell_type": "code",
   "execution_count": 1,
   "metadata": {},
   "outputs": [],
   "source": [
    "%time still = [i for i in still if not retracts_to(suspension_of_cycle(5))(ccubic[i])]\n",
    "len(still)"
   ]
  },
  {
   "cell_type": "code",
   "execution_count": 1,
   "metadata": {},
   "outputs": [],
   "source": [
    "%time still = [i for i in still if not retracts_to(suspension_of_cycle(6))(ccubic[i])]\n",
    "len(still)"
   ]
  },
  {
   "cell_type": "code",
   "execution_count": 1,
   "metadata": {},
   "outputs": [],
   "source": [
    "%time still = [i for i in still if not retracts_to(suspension_of_cycle(7))(ccubic[i])]\n",
    "len(still)"
   ]
  },
  {
   "cell_type": "code",
   "execution_count": 1,
   "metadata": {},
   "outputs": [],
   "source": [
    "%time still = [i for i in still if not retracts_to(suspension_of_cycle(8))(ccubic[i])]\n",
    "len(still)"
   ]
  },
  {
   "cell_type": "code",
   "execution_count": 1,
   "metadata": {},
   "outputs": [],
   "source": [
    "%time still = [i for i in still if not retracts_to(suspension_of_cycle(9))(ccubic[i])]\n",
    "len(still)"
   ]
  },
  {
   "cell_type": "markdown",
   "metadata": {},
   "source": [
    "La gráfica 63 se retrae a $\\overline{C_{8}}$.\n",
    "\n"
   ]
  },
  {
   "cell_type": "code",
   "execution_count": 1,
   "metadata": {},
   "outputs": [],
   "source": [
    "%time retracts = [i for i in still if retracts_to(complement_of_cycle(8))(ccubic[i])]\n",
    "still = [i for i in still if not i in retracts]\n",
    "retracts, len(still)"
   ]
  },
  {
   "cell_type": "code",
   "execution_count": 1,
   "metadata": {},
   "outputs": [],
   "source": [
    "still = [i for i in still if not retracts_to(complement_of_cycle(10))(ccubic[i])]\n",
    "len(still)"
   ]
  },
  {
   "cell_type": "code",
   "execution_count": 1,
   "metadata": {},
   "outputs": [],
   "source": [
    "still = [i for i in still if not retracts_to(complement_of_cycle(11))(ccubic[i])]\n",
    "len(still)"
   ]
  },
  {
   "cell_type": "markdown",
   "metadata": {},
   "source": [
    "#### Las de clanes\n",
    "\n"
   ]
  },
  {
   "cell_type": "code",
   "execution_count": 1,
   "metadata": {},
   "outputs": [],
   "source": [
    "kccubic = {i: pk(ccubic[i]) for i in still}\n",
    "still = [i for i in still if not is_helly(kccubic[i])]\n",
    "[(i, kccubic[i].order()) for i in still], len(still)"
   ]
  },
  {
   "cell_type": "code",
   "execution_count": 1,
   "metadata": {},
   "outputs": [],
   "source": [
    "%time retracts = [i for i in still if special_octahedra(kccubic[i])]\n",
    "still = [i for i in still if not i in retracts]\n",
    "retracts, still, len(still)"
   ]
  },
  {
   "cell_type": "markdown",
   "metadata": {},
   "source": [
    "#### Las segundas de clanes\n",
    "\n"
   ]
  },
  {
   "cell_type": "code",
   "execution_count": 1,
   "metadata": {},
   "outputs": [],
   "source": [
    "k2ccubic = {i: pk(kccubic[i]) for i in still}\n",
    "still = [i for i in still if not is_helly(k2ccubic[i])]\n",
    "[(i, k2ccubic[i].order()) for i in still], len(still)"
   ]
  },
  {
   "cell_type": "markdown",
   "metadata": {},
   "source": [
    "#### Coafinations and local cutpoints\n",
    "\n"
   ]
  },
  {
   "cell_type": "code",
   "execution_count": 1,
   "metadata": {},
   "outputs": [],
   "source": [
    "[has_coaffinations(ccubic[i], 2) for i in still]"
   ]
  },
  {
   "cell_type": "code",
   "execution_count": 1,
   "metadata": {},
   "outputs": [],
   "source": [
    "[has_local_cutpoints(ccubic[i]) for i in still]"
   ]
  },
  {
   "cell_type": "markdown",
   "metadata": {},
   "source": [
    "### Disconexas\n",
    "\n"
   ]
  },
  {
   "cell_type": "markdown",
   "metadata": {},
   "source": [
    "#### 4+4+4\n",
    "\n"
   ]
  },
  {
   "cell_type": "markdown",
   "metadata": {},
   "source": [
    "$\\overline{K_{4}\\cup K_{4}\\cup K_{4}}$ es divergente por teorema de\n",
    "  tres sumandos\n",
    "\n"
   ]
  },
  {
   "cell_type": "markdown",
   "metadata": {},
   "source": [
    "#### 4+8\n",
    "\n"
   ]
  },
  {
   "cell_type": "markdown",
   "metadata": {},
   "source": [
    "Si una gráfica de 8 vértices es tal que su complemento tiene\n",
    "coafinación, por teorema de sumando conexo, la unión disjunta de tal\n",
    "gráfica con $K_{4}$ tiene complemento divergente.\n",
    "\n"
   ]
  },
  {
   "cell_type": "code",
   "execution_count": 1,
   "metadata": {},
   "outputs": [],
   "source": [
    "still = [i for i, g in enumerate(lista08) if not has_coaffinations(complement(g), 2)]\n",
    "still"
   ]
  },
  {
   "cell_type": "code",
   "execution_count": 1,
   "metadata": {},
   "outputs": [],
   "source": [
    "cubicas = {i: disjoint_union(nx.complete_graph(4), lista08[i]) for i in still}\n",
    "ccubic = [complement(cubicas[i]) for i in still]\n",
    "still = [i for i in still if not is_helly(ccubic[i])]\n",
    "still, len(still)"
   ]
  },
  {
   "cell_type": "code",
   "execution_count": 1,
   "metadata": {},
   "outputs": [],
   "source": [
    "still = [i for i in still if not special_octahedra(ccubic[i])]\n",
    "still, len(still)"
   ]
  },
  {
   "cell_type": "code",
   "execution_count": 1,
   "metadata": {},
   "outputs": [],
   "source": [
    "still = [i for i in still if not retracts_to(octahedron(3))(ccubic[i])]\n",
    "len(still)"
   ]
  },
  {
   "cell_type": "markdown",
   "metadata": {},
   "source": [
    "#### 6+6\n",
    "\n"
   ]
  },
  {
   "cell_type": "markdown",
   "metadata": {},
   "source": [
    "El complemento del prisma triangular $T_{3}$ (i.e. $C_{6}$) es\n",
    "conexo y tiene coafinación, por lo que $T_{3}\\cup T_{3}$ y\n",
    "$T_{3}\\cup K_{3,3}$ tienen complemento divergente.\n",
    "\n",
    "Sin embargo, el complemento de $K_{3,3}\\cup K_{3,3}$ se desmantela a\n",
    "$C_{4}$, por lo que es convergente.\n",
    "\n"
   ]
  },
  {
   "cell_type": "markdown",
   "metadata": {},
   "source": [
    "## 14 vértices\n",
    "\n"
   ]
  },
  {
   "cell_type": "markdown",
   "metadata": {},
   "source": [
    "### Conexas\n",
    "\n"
   ]
  },
  {
   "cell_type": "markdown",
   "metadata": {},
   "source": [
    "#### Las gráficas\n",
    "\n"
   ]
  },
  {
   "cell_type": "code",
   "execution_count": 1,
   "metadata": {},
   "outputs": [],
   "source": [
    "lista14 = nx.read_graph6(\"./cub14.g6\")\n",
    "len(lista14)"
   ]
  },
  {
   "cell_type": "code",
   "execution_count": 1,
   "metadata": {},
   "outputs": [],
   "source": [
    "ccubic = [complement(g) for g in lista14]\n",
    "still = [i for i, g in enumerate(ccubic) if not is_helly(g)]\n",
    "len(still)"
   ]
  },
  {
   "cell_type": "code",
   "execution_count": 1,
   "metadata": {},
   "outputs": [],
   "source": [
    "%time still = [i for i in still if not special_octahedra(ccubic[i])]\n",
    "len(still)"
   ]
  },
  {
   "cell_type": "markdown",
   "metadata": {},
   "source": [
    "#### Las de clanes\n",
    "\n"
   ]
  },
  {
   "cell_type": "markdown",
   "metadata": {},
   "source": [
    "Hay cinco gráficas tales que la de clanes es Helly. De hecho, la\n",
    "podada de la gráfica de clanes es la gráfica de un vértice.\n",
    "\n"
   ]
  },
  {
   "cell_type": "code",
   "execution_count": 1,
   "metadata": {},
   "outputs": [],
   "source": [
    "%time kccubic = {i: pk(ccubic[i]) for i in still}\n",
    "%time khelly = [i for i in still if is_helly(kccubic[i])]\n",
    "still = [i for i in still if not i in khelly]\n",
    "len(still), khelly"
   ]
  },
  {
   "cell_type": "code",
   "execution_count": 1,
   "metadata": {},
   "outputs": [],
   "source": [
    "[kccubic[i].order() for i in khelly]"
   ]
  },
  {
   "cell_type": "code",
   "execution_count": 1,
   "metadata": {},
   "outputs": [],
   "source": [
    "plt.figure(figsize=(15,10))\n",
    "\n",
    "for i in range(len(khelly)):\n",
    "    plt.subplot(\"23\"+str(i+1))\n",
    "    plt.title(str(khelly[i]))\n",
    "    nx.draw(lista14[khelly[i]], with_labels='True')\n",
    "\n",
    "plt.show()"
   ]
  },
  {
   "cell_type": "code",
   "execution_count": 1,
   "metadata": {},
   "outputs": [],
   "source": [
    "plt.figure(figsize=(15,10))\n",
    "\n",
    "for i in range(len(khelly)):\n",
    "    plt.subplot(\"23\"+str(i+1))\n",
    "    plt.title(str(khelly[i]))\n",
    "    nx.draw(complement(p(complement(lista14[khelly[i]]))), with_labels='True')\n",
    "\n",
    "plt.show()"
   ]
  },
  {
   "cell_type": "markdown",
   "metadata": {},
   "source": [
    "#### Las segundas de clanes\n",
    "\n"
   ]
  },
  {
   "cell_type": "markdown",
   "metadata": {},
   "source": [
    "En mi computadora, el primer comando toma 2 segundos, el segundo 6\n",
    "minutos. Con mucho es el que toma más tiempo hasta ahora.\n",
    "\n"
   ]
  },
  {
   "cell_type": "code",
   "execution_count": 1,
   "metadata": {},
   "outputs": [],
   "source": [
    "%time k2ccubic = {i: k(kccubic[i], 300) for i in still}\n",
    "%time k2ccubic = {i: p(k2ccubic[i]) for i in still if k2ccubic[i] is not None}\n",
    "k2helly = [i for i in k2ccubic.keys() if is_helly(k2ccubic[i])]"
   ]
  },
  {
   "cell_type": "code",
   "execution_count": 1,
   "metadata": {},
   "outputs": [],
   "source": [
    "still = [i for i in k2ccubic.keys() if not i in k2helly]\n",
    "len(still), k2helly"
   ]
  },
  {
   "cell_type": "code",
   "execution_count": 1,
   "metadata": {},
   "outputs": [],
   "source": [
    "[k2ccubic[i].order() for i in k2helly]"
   ]
  },
  {
   "cell_type": "code",
   "execution_count": 1,
   "metadata": {},
   "outputs": [],
   "source": [
    "plt.figure(figsize=(15,15))\n",
    "\n",
    "for i in range(len(k2helly)):\n",
    "    plt.subplot(\"33\"+str(i+1))\n",
    "    plt.title(str(k2helly[i]))\n",
    "    nx.draw(lista14[k2helly[i]], with_labels='True')\n",
    "\n",
    "plt.show()"
   ]
  },
  {
   "cell_type": "code",
   "execution_count": 1,
   "metadata": {},
   "outputs": [],
   "source": [
    "plt.figure(figsize=(15,15))\n",
    "\n",
    "for i in range(len(k2helly)):\n",
    "    plt.subplot(\"33\"+str(i+1))\n",
    "    plt.title(str(k2helly[i]))\n",
    "    nx.draw(complement(p(complement(lista14[k2helly[i]]))), with_labels='True')\n",
    "\n",
    "plt.show()"
   ]
  },
  {
   "cell_type": "markdown",
   "metadata": {},
   "source": [
    "El primer comando tarda 1 segundo, y el segundo casi 9 segundos.\n",
    "\n"
   ]
  },
  {
   "cell_type": "code",
   "execution_count": 1,
   "metadata": {},
   "outputs": [],
   "source": [
    "%time k3ccubic = {i: k(k2ccubic[i], 500) for i in still}\n",
    "%time k3ccubic = {i: p(k3ccubic[i]) for i in still if k3ccubic[i] is not None}\n",
    "k3helly = [i for i in k3ccubic.keys() if is_helly(k3ccubic[i])]\n",
    "still = [i for i in k3ccubic.keys() if not i in k3helly]\n",
    "len(still), k3helly"
   ]
  },
  {
   "cell_type": "code",
   "execution_count": 1,
   "metadata": {},
   "outputs": [],
   "source": [
    "%time k4ccubic = {i: k(k3ccubic[i], 1000) for i in still}\n",
    "%time k4ccubic = {i: p(k4ccubic[i]) for i in still if k4ccubic[i] is not None}\n",
    "k4helly = [i for i in k4ccubic.keys() if is_helly(k4ccubic[i])]\n",
    "still = [i for i in k4ccubic.keys() if not i in k4helly]\n",
    "len(still), k4helly"
   ]
  },
  {
   "cell_type": "markdown",
   "metadata": {},
   "source": [
    "### Disconexas\n",
    "\n"
   ]
  },
  {
   "cell_type": "markdown",
   "metadata": {},
   "source": [
    "#### 4+4+6\n",
    "\n"
   ]
  },
  {
   "cell_type": "markdown",
   "metadata": {},
   "source": [
    "Como los complementos de las dos gráficas cúbicas con 6 vértices\n",
    "tienen coafinación, las dos son divergentes por el teorema de los\n",
    "tres sumandos\n",
    "\n"
   ]
  },
  {
   "cell_type": "markdown",
   "metadata": {},
   "source": [
    "#### 4+10\n",
    "\n"
   ]
  },
  {
   "cell_type": "markdown",
   "metadata": {},
   "source": [
    "Si una gráfica de 10 vértices es tal que su complemento tiene\n",
    "coafinación, por teorema de sumando conexo, la unión disjunta de tal\n",
    "gráfica con $K_{4}$ tiene complemento divergente.\n",
    "\n",
    "Sólo las gráficas 14 y 16 son tales que el complemento tiene coafinación.\n",
    "\n"
   ]
  },
  {
   "cell_type": "code",
   "execution_count": 1,
   "metadata": {},
   "outputs": [],
   "source": [
    "still = [i for i, g in enumerate(lista10) if not has_coaffinations(complement(g), 2)]\n",
    "still, len(still)"
   ]
  },
  {
   "cell_type": "code",
   "execution_count": 1,
   "metadata": {},
   "outputs": [],
   "source": [
    "plt.figure(figsize=(10,5))\n",
    "\n",
    "for i in range(2):\n",
    "    plt.subplot(\"12\"+str(i+1))\n",
    "    plt.title(str([14, 16][i]))\n",
    "    nx.draw(lista10[[14, 16][i]], with_labels='True')\n",
    "\n",
    "plt.show()"
   ]
  },
  {
   "cell_type": "code",
   "execution_count": 1,
   "metadata": {},
   "outputs": [],
   "source": [
    "cubicas = {i: disjoint_union(nx.complete_graph(4), lista10[i]) for i in still}\n",
    "ccubic = {i: complement(cubicas[i]) for i in still}\n",
    "still = [i for i in still if not is_helly(ccubic[i])]\n",
    "still, len(still)"
   ]
  },
  {
   "cell_type": "code",
   "execution_count": 1,
   "metadata": {},
   "outputs": [],
   "source": [
    "still = [i for i in still if not special_octahedra(ccubic[i])]\n",
    "still, len(still)"
   ]
  },
  {
   "cell_type": "code",
   "execution_count": 1,
   "metadata": {},
   "outputs": [],
   "source": [
    "plt.figure(figsize=(15,15))\n",
    "\n",
    "for i in range(len(still)):\n",
    "    plt.subplot(\"33\"+str(i+1))\n",
    "    plt.title(str(still[i]))\n",
    "    nx.draw(lista10[still[i]], with_labels='True')\n",
    "\n",
    "plt.show()"
   ]
  },
  {
   "cell_type": "markdown",
   "metadata": {},
   "source": [
    "5 minutos y medio:\n",
    "\n"
   ]
  },
  {
   "cell_type": "code",
   "execution_count": 1,
   "metadata": {},
   "outputs": [],
   "source": [
    "%time still = [i for i in still if not retracts_to(octahedron(3))(ccubic[i])]\n",
    "len(still)"
   ]
  },
  {
   "cell_type": "markdown",
   "metadata": {},
   "source": [
    "12 segundos:\n",
    "\n"
   ]
  },
  {
   "cell_type": "code",
   "execution_count": 1,
   "metadata": {},
   "outputs": [],
   "source": [
    "%time still = [i for i in still if not retracts_to(suspension_of_cycle(5))(ccubic[i])]\n",
    "len(still)"
   ]
  },
  {
   "cell_type": "code",
   "execution_count": 1,
   "metadata": {},
   "outputs": [],
   "source": [
    "still = [i for i in still if not retracts_to(suspension_of_cycle(6))(ccubic[i])]\n",
    "len(still)"
   ]
  },
  {
   "cell_type": "code",
   "execution_count": 1,
   "metadata": {},
   "outputs": [],
   "source": [
    "still = [i for i in still if not retracts_to(suspension_of_cycle(7))(ccubic[i])]\n",
    "len(still)"
   ]
  },
  {
   "cell_type": "code",
   "execution_count": 1,
   "metadata": {},
   "outputs": [],
   "source": [
    "still = [i for i in still if not retracts_to(suspension_of_cycle(8))(ccubic[i])]\n",
    "len(still)"
   ]
  },
  {
   "cell_type": "markdown",
   "metadata": {},
   "source": [
    "5 segundos:\n",
    "\n"
   ]
  },
  {
   "cell_type": "code",
   "execution_count": 1,
   "metadata": {},
   "outputs": [],
   "source": [
    "%time still = [i for i in still if not retracts_to(complement_of_cycle(8))(ccubic[i])]\n",
    "len(still)"
   ]
  },
  {
   "cell_type": "code",
   "execution_count": 1,
   "metadata": {},
   "outputs": [],
   "source": [
    "kccubic = {i: pk(ccubic[i]) for i in still}\n",
    "khelly = [i for i in still if is_helly(kccubic[i])]\n",
    "still = [i for i in still if not i in khelly]\n",
    "len(still), khelly"
   ]
  },
  {
   "cell_type": "code",
   "execution_count": 1,
   "metadata": {},
   "outputs": [],
   "source": [
    "[kccubic[i].order() for i in still]"
   ]
  },
  {
   "cell_type": "code",
   "execution_count": 1,
   "metadata": {},
   "outputs": [],
   "source": [
    "%time k2ccubic = {i: k(kccubic[i], 300) for i in still}\n",
    "%time k2ccubic = {i: p(k2ccubic[i]) for i in still if k2ccubic[i] is not None}\n",
    "%time k2helly = [i for i in k2ccubic.keys() if is_helly(k2ccubic[i])]\n",
    "still = [i for i in k2ccubic.keys() if not i in k2helly]\n",
    "len(still), k2helly"
   ]
  },
  {
   "cell_type": "code",
   "execution_count": 1,
   "metadata": {},
   "outputs": [],
   "source": [
    "k3ccubic = dict([(i, k(k2ccubic[i], 500)) for i in still])\n",
    "k3ccubic = dict([(i, p(k3ccubic[i])) for i in still if k3ccubic[i] is not None])\n",
    "k3helly = [i for i in k3ccubic.keys() if is_helly(k3ccubic[i])]\n",
    "still = [i for i in k3ccubic.keys() if not i in k3helly]\n",
    "len(still), k3helly"
   ]
  },
  {
   "cell_type": "markdown",
   "metadata": {},
   "source": [
    "#### 6+8\n",
    "\n"
   ]
  },
  {
   "cell_type": "markdown",
   "metadata": {},
   "source": [
    "Como una gráfica de 8 vértices tiene complemento conexo, para que se\n",
    "pueda aplicar el sumando conexo, al sumarla con el complemento de una\n",
    "de 6 vértices (que en los dos casos tiene coafinación), basta con que\n",
    "ella tenga coafinación. Ya vimos antes que eso pasa con las cúbicas de\n",
    "8 vértices con índices 3,4, por lo que falta checar los índices 0,1,2\n",
    "\n"
   ]
  },
  {
   "cell_type": "code",
   "execution_count": 1,
   "metadata": {},
   "outputs": [],
   "source": [
    "lista06 = [nx.complete_bipartite_graph(3, 3), complement(nx.cycle_graph(6))]\n",
    "cubicas = [disjoint_union(g, h) for g in lista06 for h in lista08[0:3]]\n",
    "ccubic = [complement(g) for g in cubicas]\n",
    "still = [i for i, g in enumerate(ccubic) if not(is_helly(g))]\n",
    "still, len(still)"
   ]
  },
  {
   "cell_type": "code",
   "execution_count": 1,
   "metadata": {},
   "outputs": [],
   "source": [
    "still = [i for i in still if not special_octahedra(ccubic[i])]\n",
    "still, len(still)"
   ]
  },
  {
   "cell_type": "markdown",
   "metadata": {},
   "source": [
    "Wall time: 40.9 s\n",
    "\n"
   ]
  },
  {
   "cell_type": "code",
   "execution_count": 1,
   "metadata": {},
   "outputs": [],
   "source": [
    "%time still = [i for i in still if not retracts_to(octahedron(3))(ccubic[i])]\n",
    "still, len(still)"
   ]
  },
  {
   "cell_type": "code",
   "execution_count": 1,
   "metadata": {},
   "outputs": [],
   "source": [
    "plt.figure(figsize=(15,5))\n",
    "\n",
    "for i in range(3):\n",
    "    plt.subplot(\"13\"+str(i+1))\n",
    "    plt.title(str([3, 4, 5][i]))\n",
    "    nx.draw(complement(ccubic[[3, 4, 5][i]]), with_labels='True')\n",
    "\n",
    "plt.show()"
   ]
  },
  {
   "cell_type": "code",
   "execution_count": 1,
   "metadata": {},
   "outputs": [],
   "source": [
    "%time still = [i for i in still if not retracts_to(suspension_of_cycle(5))(ccubic[i])]\n",
    "len(still)"
   ]
  },
  {
   "cell_type": "code",
   "execution_count": 1,
   "metadata": {},
   "outputs": [],
   "source": [
    "still = [i for i in still if not retracts_to(suspension_of_cycle(6))(ccubic[i])]\n",
    "len(still)"
   ]
  },
  {
   "cell_type": "code",
   "execution_count": 1,
   "metadata": {},
   "outputs": [],
   "source": [
    "still = [i for i in still if not retracts_to(suspension_of_cycle(7))(ccubic[i])]\n",
    "len(still)"
   ]
  },
  {
   "cell_type": "code",
   "execution_count": 1,
   "metadata": {},
   "outputs": [],
   "source": [
    "still = [i for i in still if not retracts_to(suspension_of_cycle(8))(ccubic[i])]\n",
    "len(still)"
   ]
  },
  {
   "cell_type": "code",
   "execution_count": 1,
   "metadata": {},
   "outputs": [],
   "source": [
    "%time still = [i for i in still if not retracts_to(complement_of_cycle(8))(ccubic[i])]\n",
    "still, len(still)"
   ]
  },
  {
   "cell_type": "code",
   "execution_count": 1,
   "metadata": {},
   "outputs": [],
   "source": [
    "kccubic = {i: pk(ccubic[i]) for i in still}\n",
    "khelly = [i for i in still if is_helly(kccubic[i])]\n",
    "still = [i for i in still if not i in khelly]\n",
    "len(still), khelly"
   ]
  },
  {
   "cell_type": "code",
   "execution_count": 1,
   "metadata": {},
   "outputs": [],
   "source": [
    "[kccubic[i].order() for i in still]"
   ]
  },
  {
   "cell_type": "code",
   "execution_count": 1,
   "metadata": {},
   "outputs": [],
   "source": [
    "still = [3, 4, 5]\n",
    "%time k2ccubic = {i: k(kccubic[i], 1000) for i in still}\n",
    "%time k2ccubic = {i: p(k2ccubic[i]) for i in still if k2ccubic[i] is not None}\n",
    "%time k2helly = [i for i in k2ccubic.keys() if is_helly(k2ccubic[i])]\n",
    "still = [i for i in k2ccubic.keys() if not i in k2helly]\n",
    "len(still), k2helly"
   ]
  },
  {
   "cell_type": "code",
   "execution_count": 1,
   "metadata": {},
   "outputs": [],
   "source": [
    "still, [k2ccubic[i].order() for i in still]"
   ]
  },
  {
   "cell_type": "markdown",
   "metadata": {},
   "source": [
    "## 16 vértices\n",
    "\n"
   ]
  },
  {
   "cell_type": "markdown",
   "metadata": {},
   "source": [
    "### Conexas\n",
    "\n"
   ]
  },
  {
   "cell_type": "code",
   "execution_count": 1,
   "metadata": {},
   "outputs": [],
   "source": [
    "lista16 = nx.read_graph6(\"./cub16.g6\")\n",
    "len(lista16)"
   ]
  },
  {
   "cell_type": "code",
   "execution_count": 1,
   "metadata": {},
   "outputs": [],
   "source": [
    "%time ccubic = [complement(g) for g in lista16]\n",
    "%time still = [i for i, g in enumerate(ccubic) if not is_helly(g)]\n",
    "len(still)"
   ]
  },
  {
   "cell_type": "markdown",
   "metadata": {},
   "source": [
    "Wall time: 2min 6s\n",
    "\n"
   ]
  },
  {
   "cell_type": "code",
   "execution_count": 1,
   "metadata": {},
   "outputs": [],
   "source": [
    "%time still = [i for i in still if not special_octahedra(ccubic[i])]\n",
    "len(still)"
   ]
  },
  {
   "cell_type": "markdown",
   "metadata": {},
   "source": [
    "Wall time: 4min 11s\n",
    "Wall time: 13.1 s\n",
    "\n"
   ]
  },
  {
   "cell_type": "code",
   "execution_count": 1,
   "metadata": {},
   "outputs": [],
   "source": [
    "%time kccubic = {i: pk(ccubic[i]) for i in still}\n",
    "%time khelly = [i for i in still if is_helly(kccubic[i])]\n",
    "still = [i for i in still if not i in khelly]\n",
    "len(still), khelly"
   ]
  },
  {
   "cell_type": "markdown",
   "metadata": {},
   "source": [
    "Hay exactamente una gráfica tal que la de clanes es Helly. De hecho, la\n",
    "podada de la gráfica de clanes es la gráfica de un vértice.\n",
    "\n",
    "    (2789, [3277])\n",
    "\n"
   ]
  },
  {
   "cell_type": "code",
   "execution_count": 1,
   "metadata": {},
   "outputs": [],
   "source": [
    "[kccubic[i].order() for i in khelly]"
   ]
  },
  {
   "cell_type": "code",
   "execution_count": 1,
   "metadata": {},
   "outputs": [],
   "source": [
    "nx.draw(lista16[3277])"
   ]
  },
  {
   "cell_type": "code",
   "execution_count": 1,
   "metadata": {},
   "outputs": [],
   "source": [
    "nx.draw(complement(p(complement(lista16[3277]))))"
   ]
  },
  {
   "cell_type": "markdown",
   "metadata": {},
   "source": [
    "Sólo hay 6 gráficas con segunda gráfica de clanes con hasta 6\n",
    "vértices, y ninguna es Helly\n",
    "\n",
    "Wall time: 26.2 s\n",
    "Wall time: 36.3 s\n",
    "\n"
   ]
  },
  {
   "cell_type": "code",
   "execution_count": 1,
   "metadata": {},
   "outputs": [],
   "source": [
    "%time k2ccubic = {i: k(kccubic[i], 500) for i in still}\n",
    "%time k2ccubic = {i: p(k2ccubic[i]) for i in still if k2ccubic[i] is not None}\n",
    "k2helly = [i for i in k2ccubic.keys() if is_helly(k2ccubic[i])]\n",
    "len(k2helly), len(k2ccubic)"
   ]
  },
  {
   "cell_type": "code",
   "execution_count": 1,
   "metadata": {},
   "outputs": [],
   "source": [
    "still = [i for i in k2ccubic.keys() if not i in k2helly]\n",
    "len(still), k2helly"
   ]
  },
  {
   "cell_type": "code",
   "execution_count": 1,
   "metadata": {},
   "outputs": [],
   "source": [
    "%time k3ccubic = {i: k(k2ccubic[i], 800) for i in still}\n",
    "len(k3ccubic)"
   ]
  },
  {
   "cell_type": "code",
   "execution_count": 1,
   "metadata": {},
   "outputs": [],
   "source": [
    "%time k3ccubic = {i: p(k3ccubic[i]) for i in still if k3ccubic[i] is not None}\n",
    "k3helly = [i for i in k3ccubic.keys() if is_helly(k3ccubic[i])]\n",
    "still = [i for i in k3ccubic.keys() if not i in k3helly]\n",
    "len(still), k3helly"
   ]
  }
 ],
 "metadata": {
  "kernelspec": {
   "display_name": "Python 3",
   "language": "python",
   "name": "python3"
  },
  "language_info": {
   "codemirror_mode": {
    "name": "ipython",
    "version": 3
   },
   "file_extension": ".py",
   "mimetype": "text/x-python",
   "name": "python",
   "nbconvert_exporter": "python",
   "pygments_lexer": "ipython3",
   "version": "3.7.0"
  },
  "org": null
 },
 "nbformat": 4,
 "nbformat_minor": 1
}
